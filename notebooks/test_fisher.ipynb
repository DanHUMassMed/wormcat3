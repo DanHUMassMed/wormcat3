{
 "cells": [
  {
   "cell_type": "code",
   "execution_count": null,
   "id": "c7148cad",
   "metadata": {},
   "outputs": [],
   "source": [
    "import sys\n",
    "import os\n",
    "\n",
    "# ##### SET SYS PATH TO WHERE THE SOURCE CODE IS. #####\n",
    "# Note: This is not required if you are using the pip installed package\n",
    "wormcat_dir = os.path.dirname(os.getcwd())\n",
    "sys.path.insert(0, wormcat_dir)\n",
    "\n",
    "# WORMCAT_DATA_PATH Allows you to use your own annotation files if desired\n",
    "# Note: This environment variable is not required if you are using the provided Wormcat Annotations\n",
    "# os.environ[\"WORMCAT_DATA_PATH\"] = f\"{wormcat_dir}/wormcat3/extdata\"\n",
    "\n",
    "example_data_dir = f\"{wormcat_dir}/example_data\"\n",
    "example_output_dir = f\"{wormcat_dir}/example_output\"\n",
    "\n",
    "print(\"Working directory:\", wormcat_dir)"
   ]
  },
  {
   "cell_type": "code",
   "execution_count": null,
   "id": "36c62089",
   "metadata": {},
   "outputs": [],
   "source": [
    "from wormcat3.statistical_analysis import EnrichmentAnalyzer\n",
    "\n",
    "# Setup statistical analyzer\n",
    "analyzer = EnrichmentAnalyzer(\n",
    "        annotations_df=None,\n",
    "        output_dir='.', \n",
    "        run_number=\"run\"\n",
    "    )\n",
    "        "
   ]
  },
  {
   "cell_type": "code",
   "execution_count": null,
   "id": "a102d316",
   "metadata": {},
   "outputs": [],
   "source": [
    "genes_in_both = 1031\n",
    "gene_set_size = 7633\n",
    "category_size = 1601\n",
    "background_size = 31389"
   ]
  },
  {
   "cell_type": "code",
   "execution_count": null,
   "id": "ad481686",
   "metadata": {},
   "outputs": [],
   "source": [
    "import scipy.stats as stats\n",
    "contingency = analyzer._create_contingency(genes_in_both, gene_set_size, category_size, background_size)\n",
    "print(contingency)\n",
    "\n",
    "odds_ratio, p_value = stats.fisher_exact(contingency, alternative='greater')  # or 'two-sided'\n",
    "print(f\"Odds Ratio: {odds_ratio}\")\n",
    "print(f\"P-value: {p_value}\")"
   ]
  },
  {
   "cell_type": "code",
   "execution_count": null,
   "id": "83103c34",
   "metadata": {},
   "outputs": [],
   "source": [
    "genes_in_both = 1031\n",
    "gene_set_size = 7690\n",
    "category_size = 1601\n",
    "background_size = 31389"
   ]
  },
  {
   "cell_type": "code",
   "execution_count": null,
   "id": "66cbca0c",
   "metadata": {},
   "outputs": [],
   "source": [
    "import scipy.stats as stats\n",
    "contingency = analyzer._create_contingency(genes_in_both, gene_set_size, category_size, background_size)\n",
    "print(contingency)\n",
    "\n",
    "odds_ratio, p_value = stats.fisher_exact(contingency, alternative='greater')  # or 'two-sided'\n",
    "print(f\"Odds Ratio: {odds_ratio}\")\n",
    "print(f\"P-value: {p_value}\")"
   ]
  },
  {
   "cell_type": "code",
   "execution_count": null,
   "id": "22c668b1",
   "metadata": {},
   "outputs": [],
   "source": [
    "from wormcat3 import Wormcat\n",
    "\n",
    "wormcat = Wormcat(run_prefix=\"Test_Murphy_Muscle\")\n",
    "gene_set_file_path = f\"/Users/dan/Code/Python/wormcat3/notebooks/wormcat_out/Murphy_TS_33719/Murphy_TS_CSVs/muscle.csv\"\n",
    "\n",
    "results_df = wormcat.analyze_and_visualize_enrichment(gene_set_file_path)"
   ]
  },
  {
   "cell_type": "code",
   "execution_count": 9,
   "id": "6a2cbcb1",
   "metadata": {},
   "outputs": [
    {
     "data": {
      "text/html": [
       "<div>\n",
       "<style scoped>\n",
       "    .dataframe tbody tr th:only-of-type {\n",
       "        vertical-align: middle;\n",
       "    }\n",
       "\n",
       "    .dataframe tbody tr th {\n",
       "        vertical-align: top;\n",
       "    }\n",
       "\n",
       "    .dataframe thead th {\n",
       "        text-align: right;\n",
       "    }\n",
       "</style>\n",
       "<table border=\"1\" class=\"dataframe\">\n",
       "  <thead>\n",
       "    <tr style=\"text-align: right;\">\n",
       "      <th></th>\n",
       "      <th>sheet</th>\n",
       "      <th>category</th>\n",
       "      <th>file</th>\n",
       "      <th>label</th>\n",
       "    </tr>\n",
       "  </thead>\n",
       "  <tbody>\n",
       "    <tr>\n",
       "      <th>0</th>\n",
       "      <td>Cat3</td>\n",
       "      <td>3</td>\n",
       "      <td>wormcat_out/Murphy_TS_77852/neurons_72311/cate...</td>\n",
       "      <td>neurons_72311</td>\n",
       "    </tr>\n",
       "    <tr>\n",
       "      <th>1</th>\n",
       "      <td>Cat3</td>\n",
       "      <td>3</td>\n",
       "      <td>wormcat_out/Murphy_TS_77852/muscle_15739/categ...</td>\n",
       "      <td>muscle_15739</td>\n",
       "    </tr>\n",
       "    <tr>\n",
       "      <th>2</th>\n",
       "      <td>Cat3</td>\n",
       "      <td>3</td>\n",
       "      <td>wormcat_out/Murphy_TS_77852/intestine_45391/ca...</td>\n",
       "      <td>intestine_45391</td>\n",
       "    </tr>\n",
       "    <tr>\n",
       "      <th>3</th>\n",
       "      <td>Cat3</td>\n",
       "      <td>3</td>\n",
       "      <td>wormcat_out/Murphy_TS_77852/hypodermis_41488/c...</td>\n",
       "      <td>hypodermis_41488</td>\n",
       "    </tr>\n",
       "  </tbody>\n",
       "</table>\n",
       "</div>"
      ],
      "text/plain": [
       "  sheet  category                                               file  \\\n",
       "0  Cat3         3  wormcat_out/Murphy_TS_77852/neurons_72311/cate...   \n",
       "1  Cat3         3  wormcat_out/Murphy_TS_77852/muscle_15739/categ...   \n",
       "2  Cat3         3  wormcat_out/Murphy_TS_77852/intestine_45391/ca...   \n",
       "3  Cat3         3  wormcat_out/Murphy_TS_77852/hypodermis_41488/c...   \n",
       "\n",
       "              label  \n",
       "0     neurons_72311  \n",
       "1      muscle_15739  \n",
       "2   intestine_45391  \n",
       "3  hypodermis_41488  "
      ]
     },
     "execution_count": 9,
     "metadata": {},
     "output_type": "execute_result"
    }
   ],
   "source": [
    "import pandas as pd\n",
    "stupid_df = pd.read_csv(\"./stupid.csv\")\n",
    "stupid_df"
   ]
  },
  {
   "cell_type": "code",
   "execution_count": 7,
   "id": "9f739e5b",
   "metadata": {},
   "outputs": [
    {
     "data": {
      "text/html": [
       "<div>\n",
       "<style scoped>\n",
       "    .dataframe tbody tr th:only-of-type {\n",
       "        vertical-align: middle;\n",
       "    }\n",
       "\n",
       "    .dataframe tbody tr th {\n",
       "        vertical-align: top;\n",
       "    }\n",
       "\n",
       "    .dataframe thead th {\n",
       "        text-align: right;\n",
       "    }\n",
       "</style>\n",
       "<table border=\"1\" class=\"dataframe\">\n",
       "  <thead>\n",
       "    <tr style=\"text-align: right;\">\n",
       "      <th></th>\n",
       "      <th>sheet</th>\n",
       "      <th>category</th>\n",
       "      <th>file</th>\n",
       "      <th>label</th>\n",
       "    </tr>\n",
       "  </thead>\n",
       "  <tbody>\n",
       "    <tr>\n",
       "      <th>0</th>\n",
       "      <td>Cat3</td>\n",
       "      <td>3</td>\n",
       "      <td>wormcat_out/Murphy_TS_77852/neurons_72311/cate...</td>\n",
       "      <td>neurons_72311</td>\n",
       "    </tr>\n",
       "    <tr>\n",
       "      <th>1</th>\n",
       "      <td>Cat3</td>\n",
       "      <td>3</td>\n",
       "      <td>wormcat_out/Murphy_TS_77852/muscle_15739/categ...</td>\n",
       "      <td>muscle_15739</td>\n",
       "    </tr>\n",
       "    <tr>\n",
       "      <th>2</th>\n",
       "      <td>Cat3</td>\n",
       "      <td>3</td>\n",
       "      <td>wormcat_out/Murphy_TS_77852/intestine_45391/ca...</td>\n",
       "      <td>intestine_45391</td>\n",
       "    </tr>\n",
       "    <tr>\n",
       "      <th>3</th>\n",
       "      <td>Cat3</td>\n",
       "      <td>3</td>\n",
       "      <td>wormcat_out/Murphy_TS_77852/hypodermis_41488/c...</td>\n",
       "      <td>hypodermis_41488</td>\n",
       "    </tr>\n",
       "  </tbody>\n",
       "</table>\n",
       "</div>"
      ],
      "text/plain": [
       "  sheet  category                                               file  \\\n",
       "0  Cat3         3  wormcat_out/Murphy_TS_77852/neurons_72311/cate...   \n",
       "1  Cat3         3  wormcat_out/Murphy_TS_77852/muscle_15739/categ...   \n",
       "2  Cat3         3  wormcat_out/Murphy_TS_77852/intestine_45391/ca...   \n",
       "3  Cat3         3  wormcat_out/Murphy_TS_77852/hypodermis_41488/c...   \n",
       "\n",
       "              label  \n",
       "0     neurons_72311  \n",
       "1      muscle_15739  \n",
       "2   intestine_45391  \n",
       "3  hypodermis_41488  "
      ]
     },
     "execution_count": 7,
     "metadata": {},
     "output_type": "execute_result"
    }
   ],
   "source": [
    "stupid_sorted_df = stupid_df.sort_values(by='label', ascending=False)\n",
    "stupid_sorted_df"
   ]
  },
  {
   "cell_type": "code",
   "execution_count": 10,
   "id": "b53bfbd4",
   "metadata": {},
   "outputs": [
    {
     "data": {
      "text/html": [
       "<div>\n",
       "<style scoped>\n",
       "    .dataframe tbody tr th:only-of-type {\n",
       "        vertical-align: middle;\n",
       "    }\n",
       "\n",
       "    .dataframe tbody tr th {\n",
       "        vertical-align: top;\n",
       "    }\n",
       "\n",
       "    .dataframe thead th {\n",
       "        text-align: right;\n",
       "    }\n",
       "</style>\n",
       "<table border=\"1\" class=\"dataframe\">\n",
       "  <thead>\n",
       "    <tr style=\"text-align: right;\">\n",
       "      <th></th>\n",
       "      <th>sheet</th>\n",
       "      <th>category</th>\n",
       "      <th>file</th>\n",
       "      <th>label</th>\n",
       "    </tr>\n",
       "  </thead>\n",
       "  <tbody>\n",
       "    <tr>\n",
       "      <th>3</th>\n",
       "      <td>Cat3</td>\n",
       "      <td>3</td>\n",
       "      <td>wormcat_out/Murphy_TS_77852/hypodermis_41488/c...</td>\n",
       "      <td>hypodermis_41488</td>\n",
       "    </tr>\n",
       "    <tr>\n",
       "      <th>2</th>\n",
       "      <td>Cat3</td>\n",
       "      <td>3</td>\n",
       "      <td>wormcat_out/Murphy_TS_77852/intestine_45391/ca...</td>\n",
       "      <td>intestine_45391</td>\n",
       "    </tr>\n",
       "    <tr>\n",
       "      <th>1</th>\n",
       "      <td>Cat3</td>\n",
       "      <td>3</td>\n",
       "      <td>wormcat_out/Murphy_TS_77852/muscle_15739/categ...</td>\n",
       "      <td>muscle_15739</td>\n",
       "    </tr>\n",
       "    <tr>\n",
       "      <th>0</th>\n",
       "      <td>Cat3</td>\n",
       "      <td>3</td>\n",
       "      <td>wormcat_out/Murphy_TS_77852/neurons_72311/cate...</td>\n",
       "      <td>neurons_72311</td>\n",
       "    </tr>\n",
       "  </tbody>\n",
       "</table>\n",
       "</div>"
      ],
      "text/plain": [
       "  sheet  category                                               file  \\\n",
       "3  Cat3         3  wormcat_out/Murphy_TS_77852/hypodermis_41488/c...   \n",
       "2  Cat3         3  wormcat_out/Murphy_TS_77852/intestine_45391/ca...   \n",
       "1  Cat3         3  wormcat_out/Murphy_TS_77852/muscle_15739/categ...   \n",
       "0  Cat3         3  wormcat_out/Murphy_TS_77852/neurons_72311/cate...   \n",
       "\n",
       "              label  \n",
       "3  hypodermis_41488  \n",
       "2   intestine_45391  \n",
       "1      muscle_15739  \n",
       "0     neurons_72311  "
      ]
     },
     "execution_count": 10,
     "metadata": {},
     "output_type": "execute_result"
    }
   ],
   "source": [
    "stupid_df.sort_values(by=['label'], inplace=True)\n",
    "stupid_df"
   ]
  },
  {
   "cell_type": "code",
   "execution_count": null,
   "id": "03d099fc",
   "metadata": {},
   "outputs": [],
   "source": []
  }
 ],
 "metadata": {
  "kernelspec": {
   "display_name": "wormcat3",
   "language": "python",
   "name": "python3"
  },
  "language_info": {
   "codemirror_mode": {
    "name": "ipython",
    "version": 3
   },
   "file_extension": ".py",
   "mimetype": "text/x-python",
   "name": "python",
   "nbconvert_exporter": "python",
   "pygments_lexer": "ipython3",
   "version": "3.12.9"
  }
 },
 "nbformat": 4,
 "nbformat_minor": 5
}
