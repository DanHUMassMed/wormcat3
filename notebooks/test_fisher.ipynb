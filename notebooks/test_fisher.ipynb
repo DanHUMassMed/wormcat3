{
 "cells": [
  {
   "cell_type": "code",
   "execution_count": null,
   "id": "c7148cad",
   "metadata": {},
   "outputs": [],
   "source": [
    "import sys\n",
    "import os\n",
    "\n",
    "# ##### SET SYS PATH TO WHERE THE SOURCE CODE IS. #####\n",
    "# Note: This is not required if you are using the pip installed package\n",
    "wormcat_dir = os.path.dirname(os.getcwd())\n",
    "sys.path.insert(0, wormcat_dir)\n",
    "\n",
    "# WORMCAT_DATA_PATH Allows you to use your own annotation files if desired\n",
    "# Note: This environment variable is not required if you are using the provided Wormcat Annotations\n",
    "# os.environ[\"WORMCAT_DATA_PATH\"] = f\"{wormcat_dir}/wormcat3/extdata\"\n",
    "\n",
    "example_data_dir = f\"{wormcat_dir}/example_data\"\n",
    "example_output_dir = f\"{wormcat_dir}/example_output\"\n",
    "\n",
    "print(\"Working directory:\", wormcat_dir)"
   ]
  },
  {
   "cell_type": "code",
   "execution_count": null,
   "id": "36c62089",
   "metadata": {},
   "outputs": [],
   "source": [
    "from wormcat3.statistical_analysis import EnrichmentAnalyzer\n",
    "\n",
    "# Setup statistical analyzer\n",
    "analyzer = EnrichmentAnalyzer(\n",
    "        annotations_df=None,\n",
    "        output_dir='.', \n",
    "        run_number=\"run\"\n",
    "    )\n",
    "        "
   ]
  },
  {
   "cell_type": "code",
   "execution_count": null,
   "id": "a102d316",
   "metadata": {},
   "outputs": [],
   "source": [
    "genes_in_both = 1031\n",
    "gene_set_size = 7633\n",
    "category_size = 1601\n",
    "background_size = 31389"
   ]
  },
  {
   "cell_type": "code",
   "execution_count": null,
   "id": "ad481686",
   "metadata": {},
   "outputs": [],
   "source": [
    "import scipy.stats as stats\n",
    "contingency = analyzer._create_contingency(genes_in_both, gene_set_size, category_size, background_size)\n",
    "print(contingency)\n",
    "\n",
    "odds_ratio, p_value = stats.fisher_exact(contingency, alternative='greater')  # or 'two-sided'\n",
    "print(f\"Odds Ratio: {odds_ratio}\")\n",
    "print(f\"P-value: {p_value}\")"
   ]
  },
  {
   "cell_type": "code",
   "execution_count": null,
   "id": "83103c34",
   "metadata": {},
   "outputs": [],
   "source": [
    "genes_in_both = 1031\n",
    "gene_set_size = 7690\n",
    "category_size = 1601\n",
    "background_size = 31389"
   ]
  },
  {
   "cell_type": "code",
   "execution_count": null,
   "id": "66cbca0c",
   "metadata": {},
   "outputs": [],
   "source": [
    "import scipy.stats as stats\n",
    "contingency = analyzer._create_contingency(genes_in_both, gene_set_size, category_size, background_size)\n",
    "print(contingency)\n",
    "\n",
    "odds_ratio, p_value = stats.fisher_exact(contingency, alternative='greater')  # or 'two-sided'\n",
    "print(f\"Odds Ratio: {odds_ratio}\")\n",
    "print(f\"P-value: {p_value}\")"
   ]
  },
  {
   "cell_type": "code",
   "execution_count": null,
   "id": "22c668b1",
   "metadata": {},
   "outputs": [],
   "source": [
    "from wormcat3 import Wormcat\n",
    "\n",
    "wormcat = Wormcat(run_prefix=\"Test_Murphy_Muscle\")\n",
    "gene_set_file_path = f\"/Users/dan/Code/Python/wormcat3/notebooks/wormcat_out/Murphy_TS_33719/Murphy_TS_CSVs/muscle.csv\"\n",
    "\n",
    "results_df = wormcat.analyze_and_visualize_enrichment(gene_set_file_path)"
   ]
  },
  {
   "cell_type": "markdown",
   "id": "ed67c77d",
   "metadata": {},
   "source": [
    "# +++++++++++++++++++++++++++++++++++++++++++++++++++++="
   ]
  },
  {
   "cell_type": "code",
   "execution_count": null,
   "id": "dc75d8bd",
   "metadata": {},
   "outputs": [],
   "source": []
  },
  {
   "cell_type": "code",
   "execution_count": null,
   "id": "c461cc9e",
   "metadata": {},
   "outputs": [],
   "source": []
  },
  {
   "cell_type": "code",
   "execution_count": null,
   "id": "6f396d47",
   "metadata": {},
   "outputs": [],
   "source": []
  },
  {
   "cell_type": "code",
   "execution_count": null,
   "id": "4b9a11ae",
   "metadata": {},
   "outputs": [
    {
     "name": "stdout",
     "output_type": "stream",
     "text": [
      "Working directory: /Users/dan/Code/Python/wormcat3\n"
     ]
    }
   ],
   "source": []
  },
  {
   "cell_type": "code",
   "execution_count": null,
   "id": "6e873ac9",
   "metadata": {},
   "outputs": [],
   "source": [
    "# Wormcat can now easily be run from a Jupyter Notebook\n",
    "from wormcat3 import Wormcat\n",
    "\n",
    "wormcat = Wormcat(run_prefix=\"orouke_out\")\n",
    "\n",
    "orouke_path=\"/Users/dan/Code/Python/wormcat3/notebooks/orouke\"\n",
    "results_df = wormcat.wormcat_batch(orouke_path)\n"
   ]
  },
  {
   "cell_type": "code",
   "execution_count": 3,
   "id": "ef944b3c",
   "metadata": {},
   "outputs": [
    {
     "name": "stdout",
     "output_type": "stream",
     "text": [
      "wormcat_out/orouke_out_72426\n",
      "worksheet=<xlsxwriter.worksheet.Worksheet object at 0x11ef97020> sheet_range='B1:KZ35'\n",
      "worksheet=<xlsxwriter.worksheet.Worksheet object at 0x11e3aec90> sheet_range='B1:KZ250'\n",
      "worksheet=<xlsxwriter.worksheet.Worksheet object at 0x11a9bf230> sheet_range='B1:KZ472'\n"
     ]
    }
   ],
   "source": [
    "from wormcat3.wormcat_excel import WormcatExcel\n",
    "from wormcat3.wormcat import Wormcat\n",
    "wormcat = Wormcat(\"./orouke\")\n",
    "working_dir_path = \"wormcat_out/orouke_out_72426\"\n",
    "annotation_file_path = wormcat.annotation_manager.annotation_file_path\n",
    "wormcat_excel = WormcatExcel()\n",
    "print(working_dir_path)\n",
    "wormcat_excel.create_summary_spreadsheet(working_dir_path, annotation_file_path, f\"{working_dir_path}/orouke_output.xlsx\")\n"
   ]
  },
  {
   "cell_type": "code",
   "execution_count": null,
   "id": "2f5b9bd1",
   "metadata": {},
   "outputs": [],
   "source": []
  }
 ],
 "metadata": {
  "kernelspec": {
   "display_name": "wormcat3",
   "language": "python",
   "name": "python3"
  },
  "language_info": {
   "codemirror_mode": {
    "name": "ipython",
    "version": 3
   },
   "file_extension": ".py",
   "mimetype": "text/x-python",
   "name": "python",
   "nbconvert_exporter": "python",
   "pygments_lexer": "ipython3",
   "version": "3.12.9"
  }
 },
 "nbformat": 4,
 "nbformat_minor": 5
}
