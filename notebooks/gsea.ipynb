{
 "cells": [
  {
   "cell_type": "code",
   "execution_count": 1,
   "id": "6003970f",
   "metadata": {},
   "outputs": [
    {
     "name": "stdout",
     "output_type": "stream",
     "text": [
      "Working directory: /Users/dan/Code/Python/wormcat3\n"
     ]
    }
   ],
   "source": [
    "import sys\n",
    "import os\n",
    "\n",
    "# ##### SET SYS PATH TO WHERE THE SOURCE CODE IS. #####\n",
    "# Note: This is not required if you are using the pip installed package\n",
    "wormcat_dir = os.path.dirname(os.getcwd())\n",
    "sys.path.insert(0, wormcat_dir)\n",
    "\n",
    "# WORMCAT_DATA_PATH Allows you to use your own annotation files if desired\n",
    "# Note: This environment variable is not required if you are using the provided Wormcat Annotations\n",
    "# os.environ[\"WORMCAT_DATA_PATH\"] = f\"{wormcat_dir}/wormcat3/extdata\"\n",
    "\n",
    "example_data_dir = f\"{wormcat_dir}/example_data\"\n",
    "example_output_dir = f\"{wormcat_dir}/example_output\"\n",
    "\n",
    "print(\"Working directory:\", wormcat_dir)"
   ]
  },
  {
   "cell_type": "markdown",
   "id": "6c5e9dc6",
   "metadata": {},
   "source": [
    "# GSEA Analysis\n",
    "\n",
    "- The input is __deseq2__ output of counts data from RNA Seq. All detected gene are used not just UP or Down\n",
    "- The required columns in the input data are: __'ID'__, __'log2FoldChange'__, __'pvalue'__\n",
    "- Other columns are ignored\n",
    "- The ranking metric is: $\\text{Rank} = \\operatorname{sign}(\\log_2 \\text{FoldChange}) \\times -\\log_{10}(p\\text{-value})$\n",
    "- Annotation Data is different from default can be passed in `Wormcat` constructor"
   ]
  },
  {
   "cell_type": "code",
   "execution_count": 2,
   "id": "52fd54d3",
   "metadata": {},
   "outputs": [
    {
     "name": "stdout",
     "output_type": "stream",
     "text": [
      "Successfully made all Rank values unique while preserving order\n",
      "No duplicate genes found in the ranked list.\n"
     ]
    }
   ],
   "source": [
    "from wormcat3 import Wormcat, PAdjustMethod\n",
    "\n",
    "\n",
    "wormcat = Wormcat(run_prefix=\"EC-ES-GSEA\")\n",
    "gene_set_file_path = f\"{example_data_dir}/DESeq2_Output/DESeq2-EC-ES/EC-ES_All_detected.csv\"\n",
    "results_df = wormcat.perform_gsea_analysis(gene_set_file_path)"
   ]
  },
  {
   "cell_type": "code",
   "execution_count": null,
   "id": "56081eae",
   "metadata": {},
   "outputs": [],
   "source": []
  }
 ],
 "metadata": {
  "kernelspec": {
   "display_name": "wormcat3",
   "language": "python",
   "name": "python3"
  },
  "language_info": {
   "codemirror_mode": {
    "name": "ipython",
    "version": 3
   },
   "file_extension": ".py",
   "mimetype": "text/x-python",
   "name": "python",
   "nbconvert_exporter": "python",
   "pygments_lexer": "ipython3",
   "version": "3.12.9"
  }
 },
 "nbformat": 4,
 "nbformat_minor": 5
}
