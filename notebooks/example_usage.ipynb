{
 "cells": [
  {
   "cell_type": "markdown",
   "metadata": {},
   "source": [
    "# Example Usage of Wormcat\n"
   ]
  },
  {
   "cell_type": "code",
   "execution_count": 1,
   "metadata": {},
   "outputs": [
    {
     "name": "stdout",
     "output_type": "stream",
     "text": [
      "Working directory: /Users/dan/Code/Python/wormcat3\n"
     ]
    }
   ],
   "source": [
    "import sys\n",
    "import os\n",
    "\n",
    "# ##### SET SYS PATH TO WHERE THE SOURCE CODE IS. #####\n",
    "# Note: This is not required if you are using the pip installed package\n",
    "wormcat_dir = os.path.dirname(os.getcwd())\n",
    "sys.path.insert(0, wormcat_dir)\n",
    "\n",
    "# WORMCAT_DATA_PATH Allows you to use your own annotation files if desired\n",
    "# Note: This environment variable is not required if you are using the provided Wormcat Annotations\n",
    "# os.environ[\"WORMCAT_DATA_PATH\"] = f\"{wormcat_dir}/wormcat3/extdata\"\n",
    "\n",
    "example_data_dir = f\"{wormcat_dir}/example_data\"\n",
    "example_output_dir = f\"{wormcat_dir}/example_output\"\n",
    "\n",
    "print(\"Working directory:\", wormcat_dir)"
   ]
  },
  {
   "cell_type": "code",
   "execution_count": 2,
   "metadata": {},
   "outputs": [],
   "source": [
    "!rm -rf ./wormcat_out\n"
   ]
  },
  {
   "cell_type": "code",
   "execution_count": 3,
   "metadata": {},
   "outputs": [
    {
     "name": "stdout",
     "output_type": "stream",
     "text": [
      "threshold=0.1\n",
      "threshold=0.1\n",
      "threshold=0.1\n",
      "Saved plot to: wormcat_out/Murphy_TS_60349/intestine_92842/category_1_padj_bon_intestine_92842.svg\n",
      "Saved plot to: wormcat_out/Murphy_TS_60349/intestine_92842/category_2_padj_bon_intestine_92842.svg\n",
      "Saved plot to: wormcat_out/Murphy_TS_60349/intestine_92842/category_3_padj_bon_intestine_92842.svg\n",
      "threshold=0.1\n",
      "threshold=0.1\n",
      "threshold=0.1\n",
      "Saved plot to: wormcat_out/Murphy_TS_60349/hypodermis_25242/category_1_padj_bon_hypodermis_25242.svg\n",
      "Saved plot to: wormcat_out/Murphy_TS_60349/hypodermis_25242/category_2_padj_bon_hypodermis_25242.svg\n",
      "Saved plot to: wormcat_out/Murphy_TS_60349/hypodermis_25242/category_3_padj_bon_hypodermis_25242.svg\n",
      "threshold=0.1\n",
      "threshold=0.1\n",
      "threshold=0.1\n",
      "Saved plot to: wormcat_out/Murphy_TS_60349/neurons_74364/category_1_padj_bon_neurons_74364.svg\n",
      "Saved plot to: wormcat_out/Murphy_TS_60349/neurons_74364/category_2_padj_bon_neurons_74364.svg\n",
      "Saved plot to: wormcat_out/Murphy_TS_60349/neurons_74364/category_3_padj_bon_neurons_74364.svg\n",
      "threshold=0.1\n",
      "threshold=0.1\n",
      "threshold=0.1\n",
      "Saved plot to: wormcat_out/Murphy_TS_60349/muscle_12041/category_1_padj_bon_muscle_12041.svg\n",
      "Saved plot to: wormcat_out/Murphy_TS_60349/muscle_12041/category_2_padj_bon_muscle_12041.svg\n",
      "Saved plot to: wormcat_out/Murphy_TS_60349/muscle_12041/category_3_padj_bon_muscle_12041.svg\n",
      "File not found: wormcat_out/Murphy_TS_60349/Murphy_TS_CSVs/category_1_fisher_Murphy_TS_CSVs.csv\n",
      "File not found: wormcat_out/Murphy_TS_60349/Murphy_TS_CSVs/category_2_fisher_Murphy_TS_CSVs.csv\n",
      "File not found: wormcat_out/Murphy_TS_60349/Murphy_TS_CSVs/category_3_fisher_Murphy_TS_CSVs.csv\n"
     ]
    }
   ],
   "source": [
    "# Wormcat can now easily be run from a Jupyter Notebook\n",
    "from wormcat3 import Wormcat\n",
    "\n",
    "wormcat = Wormcat(run_prefix=\"Murphy_TS\")\n",
    "\n",
    "excel_path=\"/Users/dan/Code/Python/wormcat3/example_data/Murphy_TS.xlsx\"\n",
    "results_df = wormcat.wormcat_batch(excel_path)"
   ]
  },
  {
   "cell_type": "code",
   "execution_count": null,
   "metadata": {},
   "outputs": [],
   "source": [
    "# Wormcat can now easily be run from a Jupyter Notebook\n",
    "from wormcat3 import Wormcat, PAdjustMethod\n",
    "\n",
    "wormcat = Wormcat(run_prefix=\"EC-ES-GSEA\")\n",
    "gene_set_file_path = f\"{example_data_dir}/DESeq2_Output/DESeq2-EC-ES/EC-ES_All_detected.csv\"\n",
    "results_df = wormcat.perform_gsea_analysis(gene_set_file_path)"
   ]
  },
  {
   "cell_type": "code",
   "execution_count": null,
   "metadata": {},
   "outputs": [],
   "source": [
    "# Wormcat can now easily be run from a Jupyter Notebook\n",
    "from wormcat3 import Wormcat\n",
    "\n",
    "wormcat = Wormcat(run_prefix=\"EC-ES-GSEA\")\n",
    "gene_set_file_path = f\"{example_data_dir}/DESeq2_Output/DESeq2-EC-ES/EC-ES-Up.csv\"\n",
    "\n",
    "results_df = wormcat.analyze_and_visualize_enrichment(gene_set_file_path)"
   ]
  },
  {
   "cell_type": "code",
   "execution_count": null,
   "metadata": {},
   "outputs": [],
   "source": [
    "# Wormcat can now easily be run from a Jupyter Notebook\n",
    "from wormcat3 import Wormcat\n",
    "\n",
    "wormcat = Wormcat(run_prefix=\"EC-ES-UP\")\n",
    "gene_set_file_path = f\"{example_data_dir}/DESeq2_Output/DESeq2-EC-ES/EC-ES-Up.csv\"\n",
    "\n",
    "results_df = wormcat.analyze_and_visualize_enrichment(gene_set_file_path)"
   ]
  },
  {
   "cell_type": "code",
   "execution_count": null,
   "metadata": {},
   "outputs": [],
   "source": [
    "# Wormcat can now easily be run from a Jupyter Notebook\n",
    "from wormcat3 import Wormcat, PAdjustMethod\n",
    "\n",
    "wormcat = Wormcat(run_prefix=\"EC-ES-UP\")\n",
    "gene_set_file_path = f\"{example_data_dir}/DESeq2_Output/DESeq2-EC-ES/EC-ES-Up.csv\"\n",
    "results_df = wormcat.perform_enrichment_analysis(gene_set_file_path, p_adjust_method=PAdjustMethod.FDR, p_adjust_threshold=0.05)"
   ]
  },
  {
   "cell_type": "code",
   "execution_count": null,
   "metadata": {},
   "outputs": [],
   "source": [
    "from wormcat3.bubble_chart import create_bubble_chart, preprocess_bubble_data\n",
    "from pathlib import Path\n",
    "\n",
    "dir_path=\"/Users/dan/Code/Python/wormcat3/notebooks/wormcat_out/run_49048\"\n",
    "data_file_nm= \"category_2_padj_bon_run_49048.csv\"\n",
    "\n",
    "create_bubble_chart(dir_path, data_file_nm, plot_title=\"Category 2 Up!!!555\")\n"
   ]
  },
  {
   "cell_type": "code",
   "execution_count": null,
   "metadata": {},
   "outputs": [],
   "source": [
    "from wormcat3.sunburst import create_sunburst\n",
    "\n",
    "dir_path=\"/Users/dan/Code/Python/wormcat3/notebooks/wormcat_out/run_68305\"\n",
    "run_number=\"run_68305\"\n",
    "\n",
    "create_sunburst(dir_path, run_number)\n"
   ]
  },
  {
   "cell_type": "code",
   "execution_count": null,
   "metadata": {},
   "outputs": [],
   "source": [
    "np.__version__"
   ]
  },
  {
   "cell_type": "code",
   "execution_count": null,
   "metadata": {},
   "outputs": [],
   "source": [
    "from wormcat3 import AnnotationsManager\n",
    "\n",
    "annotations_manager = AnnotationsManager()\n",
    "output_dir_path=\".\"\n",
    "annotations_manager.create_gmt_for_annotations(output_dir_path)\n"
   ]
  },
  {
   "cell_type": "code",
   "execution_count": null,
   "metadata": {},
   "outputs": [],
   "source": [
    "import pandas as pd\n",
    "base_dir=\"/Users/dan/Code/Python/wormcat3/wormcat3/extdata\"\n",
    "annotations_path = f\"{base_dir}/whole_genome_v2_nov-11-2021.csv\"\n",
    "annotations_df = pd.read_csv(annotations_path)\n",
    "hypodemis_df = pd.read_csv(\"/Users/dan/Desktop/Book1.csv\")\n",
    "hypodemis_df = hypodemis_df.drop_duplicates()\n",
    "hypodemis_df"
   ]
  },
  {
   "cell_type": "code",
   "execution_count": null,
   "metadata": {},
   "outputs": [],
   "source": [
    "merged_df = hypodemis_df.merge(\n",
    "    annotations_df,\n",
    "    on=\"Wormbase ID\",\n",
    "    how=\"left\"\n",
    ")\n",
    "merged_df"
   ]
  },
  {
   "cell_type": "code",
   "execution_count": null,
   "metadata": {},
   "outputs": [],
   "source": [
    "missing_category1 = merged_df[merged_df[\"Category 1\"].isna()]\n",
    "print(len(merged_df))\n",
    "print(len(missing_category1))\n",
    "print(len(merged_df)-len(missing_category1))\n"
   ]
  },
  {
   "cell_type": "code",
   "execution_count": null,
   "metadata": {},
   "outputs": [],
   "source": [
    "duplicates = hypodemis[hypodemis.duplicated()]\n",
    "print(duplicates)"
   ]
  },
  {
   "cell_type": "code",
   "execution_count": null,
   "metadata": {},
   "outputs": [],
   "source": [
    "hypodemis = hypodemis.drop_duplicates()\n",
    "hypodemis"
   ]
  },
  {
   "cell_type": "code",
   "execution_count": null,
   "metadata": {},
   "outputs": [],
   "source": [
    "from wormcat3.wormcat_excel import WormcatExcel\n",
    "from wormcat3 import file_util\n",
    "\n",
    "annotation_file_nm=\"whole_genome_v2_nov-11-2021.csv\"\n",
    "annotation_file_path = file_util.find_file_path(annotation_file_nm)\n",
    "wormcat_excel = WormcatExcel()\n",
    "wormcat_excel.create_summary_spreadsheet(\"./wormcat_out\", annotation_file_path, \"./output.xlsx\")\n"
   ]
  },
  {
   "cell_type": "code",
   "execution_count": null,
   "metadata": {},
   "outputs": [],
   "source": [
    "from wormcat3.wormcat_excel import WormcatExcel\n",
    "\n",
    "excel_path=\"/Users/dan/Code/Python/wormcat3/example_data/Murphy_TS.xlsx\"\n",
    "csv_file_path=\"Murphy_TS\"\n",
    "WormcatExcel.extract_csv_files(excel_path, csv_file_path)\n"
   ]
  },
  {
   "cell_type": "code",
   "execution_count": null,
   "metadata": {},
   "outputs": [],
   "source": [
    "!pwd\n"
   ]
  },
  {
   "cell_type": "code",
   "execution_count": null,
   "metadata": {},
   "outputs": [],
   "source": []
  }
 ],
 "metadata": {
  "kernelspec": {
   "display_name": "wormcat3",
   "language": "python",
   "name": "python3"
  },
  "language_info": {
   "codemirror_mode": {
    "name": "ipython",
    "version": 3
   },
   "file_extension": ".py",
   "mimetype": "text/x-python",
   "name": "python",
   "nbconvert_exporter": "python",
   "pygments_lexer": "ipython3",
   "version": "3.12.9"
  }
 },
 "nbformat": 4,
 "nbformat_minor": 2
}
