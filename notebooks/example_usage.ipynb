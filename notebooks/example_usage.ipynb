{
 "cells": [
  {
   "cell_type": "markdown",
   "metadata": {},
   "source": [
    "# Example Usage of Wormcat\n"
   ]
  },
  {
   "cell_type": "code",
   "execution_count": 1,
   "metadata": {},
   "outputs": [
    {
     "name": "stdout",
     "output_type": "stream",
     "text": [
      "Working directory: /Users/dan/Code/Python/wormcat3\n"
     ]
    }
   ],
   "source": [
    "import sys\n",
    "import os\n",
    "\n",
    "# ##### SET SYS PATH TO WHERE THE SOURCE CODE IS. #####\n",
    "# Note: This is not required if you are using the pip installed package\n",
    "wormcat_dir = os.path.dirname(os.getcwd())\n",
    "sys.path.insert(0, wormcat_dir)\n",
    "\n",
    "# WORMCAT_DATA_PATH Allows you to use your own annotation files if desired\n",
    "# Note: This environment variable is not required if you are using the provided Wormcat Annotations\n",
    "# os.environ[\"WORMCAT_DATA_PATH\"] = f\"{wormcat_dir}/wormcat3/extdata\"\n",
    "\n",
    "example_data_dir = f\"{wormcat_dir}/example_data\"\n",
    "example_output_dir = f\"{wormcat_dir}/example_output\"\n",
    "\n",
    "print(\"Working directory:\", wormcat_dir)"
   ]
  },
  {
   "cell_type": "code",
   "execution_count": 2,
   "metadata": {},
   "outputs": [],
   "source": [
    "!rm -rf wormcat_out/*"
   ]
  },
  {
   "cell_type": "code",
   "execution_count": 3,
   "metadata": {},
   "outputs": [
    {
     "name": "stdout",
     "output_type": "stream",
     "text": [
      "threshold=0.1\n",
      "threshold=0.1\n",
      "threshold=0.1\n",
      "Saved plot to: wormcat_out/EC-ES-UP_08505/category_1_padj_bon_EC-ES-UP_08505.svg\n",
      "Saved plot to: wormcat_out/EC-ES-UP_08505/category_2_padj_bon_EC-ES-UP_08505.svg\n",
      "Saved plot to: wormcat_out/EC-ES-UP_08505/category_3_padj_bon_EC-ES-UP_08505.svg\n"
     ]
    }
   ],
   "source": [
    "# Wormcat can now easily be run from a Jupyter Notebook\n",
    "from wormcat3 import Wormcat\n",
    "\n",
    "wormcat = Wormcat(run_prefix=\"EC-ES-UP\")\n",
    "gene_set_file_path = f\"{example_data_dir}/DESeq2_Output/DESeq2-EC-ES/EC-ES-Up.csv\"\n",
    "\n",
    "results_df = wormcat.test_and_chart(gene_set_file_path)"
   ]
  },
  {
   "cell_type": "code",
   "execution_count": null,
   "metadata": {},
   "outputs": [],
   "source": [
    "# Wormcat can now easily be run from a Jupyter Notebook\n",
    "from wormcat3 import Wormcat, PAdjustMethod\n",
    "\n",
    "wormcat = Wormcat(run_prefix=\"EC-ES-UP\")\n",
    "gene_set_file_path = f\"{example_data_dir}/DESeq2_Output/DESeq2-EC-ES/EC-ES-Up.csv\"\n",
    "results_df = wormcat.enrichment_test(gene_set_file_path,p_adjust_method=PAdjustMethod.FDR)"
   ]
  },
  {
   "cell_type": "code",
   "execution_count": null,
   "metadata": {},
   "outputs": [],
   "source": [
    "# Wormcat can now easily be run from a Jupyter Notebook\n",
    "from wormcat3 import Wormcat, PAdjustMethod\n",
    "\n",
    "wormcat = Wormcat(run_prefix=\"EC-ES-UP\")\n",
    "gene_set_file_path = f\"{example_data_dir}/DESeq2_Output/DESeq2-EC-ES/EC-ES-Up.csv\"\n",
    "results_df = wormcat.enrichment_test(gene_set_file_path, p_adjust_method=PAdjustMethod.FDR, p_adjust_threshold=0.05)"
   ]
  },
  {
   "cell_type": "code",
   "execution_count": null,
   "metadata": {},
   "outputs": [],
   "source": [
    "from wormcat3.bubble_chart import create_bubble_chart, preprocess_bubble_data\n",
    "from pathlib import Path\n",
    "\n",
    "dir_path=\"/Users/dan/Code/Python/wormcat3/notebooks/wormcat_out/run_49048\"\n",
    "data_file_nm= \"category_2_padj_bon_run_49048.csv\"\n",
    "\n",
    "create_bubble_chart(dir_path, data_file_nm, plot_title=\"Category 2 Up!!!555\")\n"
   ]
  },
  {
   "cell_type": "code",
   "execution_count": null,
   "metadata": {},
   "outputs": [],
   "source": [
    "from wormcat3.sunburst import create_sunburst\n",
    "\n",
    "dir_path=\"/Users/dan/Code/Python/wormcat3/notebooks/wormcat_out/run_68305\"\n",
    "run_number=\"run_68305\"\n",
    "\n",
    "create_sunburst(dir_path, run_number)\n"
   ]
  },
  {
   "cell_type": "code",
   "execution_count": null,
   "metadata": {},
   "outputs": [],
   "source": [
    "import pandas as pd\n",
    "from pathlib import Path\n",
    "\n",
    "dir_path=\"/Users/dan/Code/Python/wormcat3/notebooks/wormcat_out/run_68305\"\n",
    "data_file_nm= \"category_1_padj_bon_run_68305.csv\"\n",
    "\n",
    "data_file_path = Path(dir_path)/data_file_nm\n",
    "\n",
    "bubbles_data = pd.read_csv(data_file_path)\n",
    "bubbles_data"
   ]
  },
  {
   "cell_type": "code",
   "execution_count": null,
   "metadata": {},
   "outputs": [],
   "source": [
    "import numpy as np\n",
    "import pandas as pd\n",
    "\n",
    "# Example data\n",
    "bubbles_data = pd.DataFrame({\n",
    "    'Bonferroni': [1e-50, 5e-30, 3e-12, 4e-7, 1e-3, 0.06, 0.1]\n",
    "})\n",
    "\n",
    "# Create color coding based on Bonferroni-corrected p-values\n",
    "conditions = [\n",
    "    (bubbles_data['Bonferroni'] < 1e-40),\n",
    "    (bubbles_data['Bonferroni'] < 1e-20),\n",
    "    (bubbles_data['Bonferroni'] < 1e-10),\n",
    "    (bubbles_data['Bonferroni'] < 1e-5),\n",
    "    (bubbles_data['Bonferroni'] < 1e-2),\n",
    "    (bubbles_data['Bonferroni'] < 5e-2),\n",
    "    (bubbles_data['Bonferroni'] >= 5e-2)\n",
    "]\n",
    "\n",
    "# Corresponding values for each condition\n",
    "values = [\"Col1\", \"Col2\", \"Col3\", \"Col4\", \"Col5\", \"Col6\", \"NS\"]\n",
    "\n",
    "# Assign the result to the new column with an explicit default value\n",
    "bubbles_data['p_value_type'] = np.select(conditions, values, default='')\n",
    "\n",
    "print(bubbles_data)"
   ]
  },
  {
   "cell_type": "code",
   "execution_count": null,
   "metadata": {},
   "outputs": [],
   "source": [
    "np.__version__"
   ]
  },
  {
   "cell_type": "code",
   "execution_count": null,
   "metadata": {},
   "outputs": [],
   "source": [
    "from wormcat3 import AnnotationsManager\n",
    "\n",
    "annotations_manager = AnnotationsManager()\n",
    "output_dir_path=\".\"\n",
    "annotations_manager.create_gmt_for_annotations(output_dir_path)\n"
   ]
  },
  {
   "cell_type": "code",
   "execution_count": null,
   "metadata": {},
   "outputs": [],
   "source": []
  }
 ],
 "metadata": {
  "kernelspec": {
   "display_name": "wormcat3",
   "language": "python",
   "name": "python3"
  },
  "language_info": {
   "codemirror_mode": {
    "name": "ipython",
    "version": 3
   },
   "file_extension": ".py",
   "mimetype": "text/x-python",
   "name": "python",
   "nbconvert_exporter": "python",
   "pygments_lexer": "ipython3",
   "version": "3.12.9"
  }
 },
 "nbformat": 4,
 "nbformat_minor": 2
}
